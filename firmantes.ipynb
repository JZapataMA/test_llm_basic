{
 "cells": [
  {
   "cell_type": "code",
   "execution_count": 1,
   "metadata": {},
   "outputs": [
    {
     "data": {
      "text/plain": [
       "True"
      ]
     },
     "execution_count": 1,
     "metadata": {},
     "output_type": "execute_result"
    }
   ],
   "source": [
    "import os\n",
    "from pdf2image import convert_from_path\n",
    "import pytesseract\n",
    "from langchain.docstore.document import Document\n",
    "from langchain.llms import WatsonxLLM\n",
    "from langchain.chains import RetrievalQA\n",
    "from langchain.text_splitter import RecursiveCharacterTextSplitter\n",
    "from langchain_ibm import WatsonxEmbeddings\n",
    "from langchain_community.vectorstores import Chroma\n",
    "from langchain.prompts import PromptTemplate\n",
    "from dotenv import load_dotenv\n",
    "\n",
    "# Watsonx LLM\n",
    "from langchain_ibm import WatsonxEmbeddings, WatsonxLLM\n",
    "from ibm_watson_machine_learning.metanames import GenTextParamsMetaNames as GenParams\n",
    "from ibm_watsonx_ai.foundation_models.utils.enums import EmbeddingTypes\n",
    "from ibm_granite_community.notebook_utils import get_env_var\n",
    "\n",
    "from utils import buscar_cita_en_paginas \n",
    "load_dotenv()"
   ]
  },
  {
   "cell_type": "code",
   "execution_count": 3,
   "metadata": {},
   "outputs": [],
   "source": [
    "# Definir el path del documento PDF\n",
    "DOC_PATH = \"Documento.pdf\"\n",
    "PAGES_CACHE = \"pages.txt\""
   ]
  },
  {
   "cell_type": "code",
   "execution_count": 4,
   "metadata": {},
   "outputs": [
    {
     "name": "stdout",
     "output_type": "stream",
     "text": [
      "Documento cargado con 10 páginas desde pages.txt.\n"
     ]
    }
   ],
   "source": [
    "# Extraer el texto del PDF mediante OCR y guardarlo en caché para evitar reprocesos\n",
    "if not os.path.exists(PAGES_CACHE):\n",
    "    pages_images = convert_from_path(DOC_PATH, dpi=300)\n",
    "    documents = []\n",
    "    for i, image in enumerate(pages_images):\n",
    "        # Ajusta 'lang' según el idioma (ej.: 'spa' para español)\n",
    "        text = pytesseract.image_to_string(image, lang='spa')\n",
    "        documents.append(Document(page_content=text, metadata={\"page\": i + 1}))\n",
    "    with open(PAGES_CACHE, \"w\", encoding=\"utf-8\") as f:\n",
    "        f.write(str(documents))\n",
    "    print(f\"Documento procesado y guardado con {len(documents)} páginas.\")\n",
    "else:\n",
    "    with open(PAGES_CACHE, \"r\", encoding=\"utf-8\") as f:\n",
    "        documents = eval(f.read())\n",
    "    print(f\"Documento cargado con {len(documents)} páginas desde {PAGES_CACHE}.\")\n",
    "\n",
    "# Unir todo el contenido en un solo string (opcional, para splitting global)\n",
    "documento_completo = \"\\n\".join([doc.page_content for doc in documents])"
   ]
  },
  {
   "cell_type": "code",
   "execution_count": null,
   "metadata": {},
   "outputs": [
    {
     "name": "stderr",
     "output_type": "stream",
     "text": [
      "Some weights of the model checkpoint at mrm8488/bert-spanish-cased-finetuned-ner were not used when initializing BertForTokenClassification: ['bert.pooler.dense.bias', 'bert.pooler.dense.weight']\n",
      "- This IS expected if you are initializing BertForTokenClassification from the checkpoint of a model trained on another task or with another architecture (e.g. initializing a BertForSequenceClassification model from a BertForPreTraining model).\n",
      "- This IS NOT expected if you are initializing BertForTokenClassification from the checkpoint of a model that you expect to be exactly identical (initializing a BertForSequenceClassification model from a BertForSequenceClassification model).\n",
      "Device set to use cpu\n",
      "Asking to truncate to max_length but no maximum length is provided and the model has no predefined maximum length. Default to no truncation.\n"
     ]
    },
    {
     "name": "stdout",
     "output_type": "stream",
     "text": [
      "Firmantes detectados: ['IIS TOLEDO', 'Ia MOYA', 'Francisco Tapia Guerrero', 'S S']\n"
     ]
    }
   ],
   "source": [
    "import re\n",
    "from transformers import pipeline, AutoTokenizer\n",
    "\n",
    "# Inicializa el pipeline de NER y el tokenizer\n",
    "ner_pipeline = pipeline(\n",
    "    \"ner\", \n",
    "    model=\"mrm8488/bert-spanish-cased-finetuned-ner\", \n",
    "    aggregation_strategy=\"simple\",\n",
    ")\n",
    "tokenizer = AutoTokenizer.from_pretrained(\"mrm8488/bert-spanish-cased-finetuned-ner\")\n",
    "\n",
    "def limpiar_texto(texto):\n",
    "    \"\"\"\n",
    "    Remueve caracteres extraños y normaliza espacios.\n",
    "    \"\"\"\n",
    "    # Eliminar tokens tipo '##' y caracteres no alfabéticos (excepto espacios)\n",
    "    texto = re.sub(r'##', '', texto)\n",
    "    texto = re.sub(r'[^A-Za-zÁÉÍÓÚÑáéíóú\\s]', '', texto)\n",
    "    # Reemplaza múltiples espacios por uno solo\n",
    "    texto = re.sub(r'\\s+', ' ', texto)\n",
    "    return texto.strip()\n",
    "\n",
    "def extraer_firmantes(texto, max_length=512):\n",
    "    \"\"\"\n",
    "    Divide el texto en fragmentos de a lo sumo max_length tokens y extrae las entidades de tipo PERSON.\n",
    "    Aplica postprocesamiento para limpiar los resultados.\n",
    "    Retorna una lista sin duplicados.\n",
    "    \"\"\"\n",
    "    encoding = tokenizer(texto, add_special_tokens=True, truncation=False)\n",
    "    token_ids = encoding[\"input_ids\"]\n",
    "    firmantes = []\n",
    "    \n",
    "    # Procesar en chunks basados en tokens\n",
    "    for i in range(0, len(token_ids), max_length):\n",
    "        chunk_ids = token_ids[i:i+max_length]\n",
    "        chunk_text = tokenizer.decode(chunk_ids, skip_special_tokens=True)\n",
    "        # Forzar UTF-8\n",
    "        chunk_text = chunk_text.encode(\"utf-8\").decode(\"utf-8\")\n",
    "        # Ejecutar NER en el fragmento\n",
    "        entidades = ner_pipeline(chunk_text)\n",
    "        for ent in entidades:\n",
    "            if ent.get(\"entity_group\") == \"PER\":\n",
    "                nombre = limpiar_texto(ent[\"word\"])\n",
    "                # Filtrar nombres cortos o con caracteres sospechosos\n",
    "                if len(nombre.split()) >= 2 and re.match(r'^[A-Z]', nombre):\n",
    "                    firmantes.append(nombre)\n",
    "                    \n",
    "    return list(set(firmantes))\n",
    "\n",
    "# Ejemplo de uso:\n",
    "firmantes_detectados = extraer_firmantes(documento_completo)\n",
    "print(\"Firmantes detectados:\", firmantes_detectados)"
   ]
  },
  {
   "cell_type": "code",
   "execution_count": null,
   "metadata": {},
   "outputs": [
    {
     "name": "stdout",
     "output_type": "stream",
     "text": [
      "Started parsing the file under job_id 6fd19ef9-ec57-4921-ad46-eea4b82f3d52\n"
     ]
    }
   ],
   "source": [
    "import nest_asyncio\n",
    "nest_asyncio.apply()\n",
    "\n",
    "from dotenv import load_dotenv\n",
    "load_dotenv()\n",
    "\n",
    "# bring in deps\n",
    "from llama_cloud_services import LlamaParse\n",
    "from llama_index.core import SimpleDirectoryReader\n",
    "\n",
    "# set up parser\n",
    "parser = LlamaParse(\n",
    "    result_type=\"markdown\" \n",
    ")\n",
    "\n",
    "# use SimpleDirectoryReader to parse our file\n",
    "file_extractor = {\".pdf\": parser}\n",
    "documents = SimpleDirectoryReader(input_files=['Documento.pdf'], file_extractor=file_extractor).load_data()\n",
    "\n",
    "print(documents)"
   ]
  },
  {
   "cell_type": "code",
   "execution_count": null,
   "metadata": {},
   "outputs": [
    {
     "name": "stdout",
     "output_type": "stream",
     "text": [
      "Firmantes digitales detectados:\n",
      "<pyhanko.pdf_utils.reader.PdfFileReader object at 0x0000012B1B5D6890>\n"
     ]
    }
   ],
   "source": [
    "from pyhanko.pdf_utils.reader import PdfFileReader\n",
    "from pyhanko.sign.validation import validate_pdf_signature\n",
    "from pyhanko_certvalidator import ValidationContext\n",
    "\n",
    "def extraer_firmantes_digitales(pdf_path):\n",
    "    firmantes = []\n",
    "    with open(pdf_path, 'rb') as f:\n",
    "        reader = PdfFileReader(f)\n",
    "        # Crea un contexto de validación (puedes ajustarlo según tus necesidades)\n",
    "        vc = ValidationContext()\n",
    "        # Itera sobre todas las firmas embebidas en el PDF\n",
    "        for sig in reader.embedded_signatures:\n",
    "            try:\n",
    "                # Valida la firma\n",
    "                status = validate_pdf_signature(sig, vc)\n",
    "                # Si se pudo validar y existe el certificado del firmante, extrae el nombre\n",
    "                if status.signing_cert:\n",
    "                    firmante = status.signing_cert.subject.human_friendly\n",
    "                    firmantes.append(firmante)\n",
    "            except Exception as e:\n",
    "                print(\"Error al validar firma:\", e)\n",
    "    return firmantes\n",
    "\n",
    "if __name__ == '__main__':\n",
    "    pdf = \"Documento.pdf\"\n",
    "    print(\"Firmantes digitales detectados:\")\n",
    "    for firmante in extraer_firmantes_digitales(pdf):\n",
    "        print(firmante)\n"
   ]
  },
  {
   "cell_type": "code",
   "execution_count": null,
   "metadata": {},
   "outputs": [],
   "source": []
  }
 ],
 "metadata": {
  "kernelspec": {
   "display_name": "tllm",
   "language": "python",
   "name": "python3"
  },
  "language_info": {
   "codemirror_mode": {
    "name": "ipython",
    "version": 3
   },
   "file_extension": ".py",
   "mimetype": "text/x-python",
   "name": "python",
   "nbconvert_exporter": "python",
   "pygments_lexer": "ipython3",
   "version": "3.10.11"
  }
 },
 "nbformat": 4,
 "nbformat_minor": 2
}
